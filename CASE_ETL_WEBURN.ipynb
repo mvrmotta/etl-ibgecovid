{
  "nbformat": 4,
  "nbformat_minor": 0,
  "metadata": {
    "colab": {
      "provenance": []
    },
    "kernelspec": {
      "name": "python3",
      "display_name": "Python 3"
    },
    "language_info": {
      "name": "python"
    }
  },
  "cells": [
    {
      "cell_type": "code",
      "source": [
        "import sqlite3\n",
        "from coleta_ibge import extrair_dados_ibge\n",
        "from coleta_covid import extrair_dados_covid\n",
        "\n",
        "# ===== ETAPA 1 – Obter dados das fontes =====\n",
        "df_ibge = extrair_dados_ibge()\n",
        "df_covid = extrair_dados_covid()\n",
        "\n",
        "# ===== ETAPA 2 – Conectar (ou criar) banco de dados SQLite =====\n",
        "conn = sqlite3.connect(\"dados_case.db\")\n",
        "cursor = conn.cursor()\n",
        "\n",
        "# ===== ETAPA 3 – Criar as tabelas com modelagem explícita =====\n",
        "\n",
        "# Remove tabelas antigas se existirem\n",
        "cursor.execute(\"DROP TABLE IF EXISTS populacao_ibge;\")\n",
        "cursor.execute(\"DROP TABLE IF EXISTS covid_brasilio;\")\n",
        "\n",
        "# Cria tabela populacao_ibge\n",
        "cursor.execute(\"\"\"\n",
        "CREATE TABLE populacao_ibge (\n",
        "    codigo_municipio INTEGER PRIMARY KEY,\n",
        "    nome_municipio TEXT NOT NULL,\n",
        "    uf TEXT NOT NULL,\n",
        "    populacao_estimada INTEGER NOT NULL\n",
        ");\n",
        "\"\"\")\n",
        "\n",
        "# Cria tabela covid_brasilio\n",
        "cursor.execute(\"\"\"\n",
        "CREATE TABLE covid_brasilio (\n",
        "    codigo_municipio INTEGER,\n",
        "    nome_municipio TEXT NOT NULL,\n",
        "    uf TEXT NOT NULL,\n",
        "    casos_confirmados INTEGER,\n",
        "    obitos_confirmados INTEGER,\n",
        "    taxa_mortalidade REAL,\n",
        "    FOREIGN KEY (codigo_municipio) REFERENCES populacao_ibge(codigo_municipio)\n",
        ");\n",
        "\"\"\")\n",
        "\n",
        "conn.commit()\n",
        "\n",
        "# ===== ETAPA 4 – Inserir dados =====\n",
        "\n",
        "# Inserir dados IBGE\n",
        "df_ibge.to_sql(\"populacao_ibge\", conn, if_exists=\"append\", index=False)\n",
        "\n",
        "# Inserir dados COVID\n",
        "df_covid.to_sql(\"covid_brasilio\", conn, if_exists=\"append\", index=False)\n",
        "\n",
        "conn.commit()\n",
        "conn.close()\n",
        "\n",
        "print(\"✅ Banco de dados criado e populado com sucesso!\")"
      ],
      "metadata": {
        "id": "SZYdZFPZY4sW",
        "colab": {
          "base_uri": "https://localhost:8080/"
        },
        "outputId": "eebf6f66-a35a-4d5a-c5d6-af8b9c0b1667"
      },
      "execution_count": 2,
      "outputs": [
        {
          "output_type": "stream",
          "name": "stdout",
          "text": [
            "Solicitando dados do IBGE para o ano 2021...\n",
            "Total de registros extraídos: 5570\n",
            "Duplicatas removidas: 0\n",
            "Valores nulos detectados por coluna:\n",
            "Series([], dtype: int64)\n",
            "Total de linhas com nulos removidas: 0\n",
            "Total final de registros após limpeza: 5570\n",
            "Digite sua API Key do Brasil.IO: ··········\n",
            "Coletando dados da API Brasil.IO...\n",
            "Registros extraídos: 5589\n",
            "Duplicatas removidas: 0\n",
            "Valores nulos por coluna:\n",
            "codigo_municipio    19\n",
            "dtype: int64\n",
            "Total de nulos: 19\n",
            "✅ Banco de dados criado e populado com sucesso!\n"
          ]
        }
      ]
    },
    {
      "cell_type": "code",
      "source": [],
      "metadata": {
        "id": "3SmOSf1VqFxx"
      },
      "execution_count": 2,
      "outputs": []
    }
  ]
}